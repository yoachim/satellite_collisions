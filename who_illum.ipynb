{
 "cells": [
  {
   "cell_type": "code",
   "execution_count": 1,
   "metadata": {},
   "outputs": [
    {
     "name": "stderr",
     "output_type": "stream",
     "text": [
      "WARNING: AstropyDeprecationWarning: astropy.utils.compat.funcsigs is now deprecated - use inspect instead [astropy.utils.compat.funcsigs]\n"
     ]
    }
   ],
   "source": [
    "import numpy as np\n",
    "# from lsst.sims.almanac import Almanac\n",
    "import matplotlib.pylab as plt\n",
    "import pandas as pd\n",
    "import sqlite3\n",
    "from utils import Constellation, starlink_constellation, grow_hp\n",
    "import sys\n",
    "\n",
    "import healpy as hp\n",
    "%matplotlib inline\n",
    "from lsst.sims.utils import _raDec2Hpid, hpid2RaDec"
   ]
  },
  {
   "cell_type": "code",
   "execution_count": 2,
   "metadata": {},
   "outputs": [
    {
     "name": "stderr",
     "output_type": "stream",
     "text": [
      "WARNING: ErfaWarning: ERFA function \"d2dtf\" yielded 1 of \"dubious year (Note 5)\" [astropy._erfa.core]\n"
     ]
    }
   ],
   "source": [
    "sat_tles = starlink_constellation(supersize=False)\n",
    "nsats = len(sat_tles)\n",
    "constellation = Constellation(sat_tles)\n",
    "mjd_start = 59928.18474603 # Summer around midnight\n",
    "constellation.update_mjd(mjd_start)"
   ]
  },
  {
   "cell_type": "code",
   "execution_count": 22,
   "metadata": {},
   "outputs": [],
   "source": [
    "elev = []\n",
    "\n",
    "for indx in constellation.above_alt_limit:\n",
    "    sat = constellation.sat_list[indx]\n",
    "    if not sat.eclipsed:\n",
    "        elev.append(sat.elevation)"
   ]
  },
  {
   "cell_type": "code",
   "execution_count": 23,
   "metadata": {},
   "outputs": [
    {
     "data": {
      "text/plain": [
       "[1120269.875,\n",
       " 1122213.5,\n",
       " 1122213.5,\n",
       " 1121795.375,\n",
       " 1121795.375,\n",
       " 1288591.25,\n",
       " 1290528.875,\n",
       " 1338791.125]"
      ]
     },
     "execution_count": 23,
     "metadata": {},
     "output_type": "execute_result"
    }
   ],
   "source": [
    "elev"
   ]
  },
  {
   "cell_type": "code",
   "execution_count": null,
   "metadata": {},
   "outputs": [],
   "source": []
  }
 ],
 "metadata": {
  "kernelspec": {
   "display_name": "Python 3",
   "language": "python",
   "name": "python3"
  },
  "language_info": {
   "codemirror_mode": {
    "name": "ipython",
    "version": 3
   },
   "file_extension": ".py",
   "mimetype": "text/x-python",
   "name": "python",
   "nbconvert_exporter": "python",
   "pygments_lexer": "ipython3",
   "version": "3.6.2"
  }
 },
 "nbformat": 4,
 "nbformat_minor": 2
}
