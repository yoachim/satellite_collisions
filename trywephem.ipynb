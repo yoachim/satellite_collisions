{
 "cells": [
  {
   "cell_type": "code",
   "execution_count": 16,
   "metadata": {},
   "outputs": [],
   "source": [
    "import datetime\n",
    "import numpy as np\n",
    "\n",
    "import matplotlib.pyplot as plt\n",
    "from mpl_toolkits.mplot3d import Axes3D\n",
    "import matplotlib\n",
    "from matplotlib import animation, rc\n",
    "\n",
    "from astropy import time\n",
    "from astropy import units as u\n",
    "from astropy import constants as const\n",
    "from astropy.coordinates import EarthLocation\n",
    "\n",
    "from lsst.sims.utils import Site\n",
    "\n",
    "import ephem"
   ]
  },
  {
   "cell_type": "code",
   "execution_count": 6,
   "metadata": {},
   "outputs": [],
   "source": [
    "def satellite_mean_motion(altitude, mu=const.GM_earth, r_earth=const.R_earth):\n",
    "    '''\n",
    "    Compute mean motion of satellite at altitude in Earth's gravitational field.\n",
    "    \n",
    "    See https://en.wikipedia.org/wiki/Mean_motion#Formulae\n",
    "    '''\n",
    "    no = np.sqrt(4.0 * np.pi ** 2 * (altitude + r_earth) ** 3 / mu).to(u.day)\n",
    "    return 1 / no"
   ]
  },
  {
   "cell_type": "code",
   "execution_count": 2,
   "metadata": {},
   "outputs": [],
   "source": [
    "def tle_from_orbital_parameters(\n",
    "        sat_name, sat_nr, epoch, inclination, raan, mean_anomaly, mean_motion\n",
    "        ):\n",
    "    '''\n",
    "    Generate TLE strings from orbital parameters.\n",
    "    \n",
    "    Note: epoch has a very strange format: first two digits are the year, next three\n",
    "    digits are the day from beginning of year, then fraction of a day is given, e.g.\n",
    "    20180.25 would be 2020, day 180, 6 hours (UT?)\n",
    "    '''\n",
    "    \n",
    "    # Note: RAAN = right ascention (or longitude) of ascending node\n",
    "    \n",
    "    def checksum(line):\n",
    "        s = 0\n",
    "        for c in line[:-1]:\n",
    "            if c.isdigit():\n",
    "                s += int(c)\n",
    "            if c == \"-\":\n",
    "                s += 1\n",
    "        return '{:s}{:1d}'.format(line[:-1], s % 10)\n",
    "    \n",
    "    tle0 = sat_name\n",
    "    tle1 = checksum(\n",
    "        '1 {:05d}U 20001A   {:14.8f}  .00000000  00000-0  50000-4 '\n",
    "        '0    0X'.format(sat_nr, epoch)\n",
    "        )\n",
    "    tle2 = checksum(\n",
    "        '2 {:05d} {:8.4f} {:8.4f} 0001000   0.0000 {:8.4f} '\n",
    "        '{:11.8f}    0X'.format(\n",
    "            sat_nr, inclination.to_value(u.deg), raan.to_value(u.deg),\n",
    "            mean_anomaly.to_value(u.deg), mean_motion.to_value(1 / u.day)\n",
    "        ))\n",
    "    \n",
    "    return '\\n'.join([tle0, tle1, tle2])"
   ]
  },
  {
   "cell_type": "code",
   "execution_count": 3,
   "metadata": {},
   "outputs": [],
   "source": [
    "altitudes = np.array([550, 1110, 1130, 1275, 1325, 345.6, 340.8, 335.9]) * u.km\n",
    "inclinations = np.array([53.0, 53.8, 74.0, 81.0, 70.0, 53.0, 48.0, 42.0]) * u.deg\n",
    "nplanes = np.array([72, 32, 8, 5, 6, 2547, 2478, 2493])\n",
    "sats_per_plane = np.array([22, 50, 50, 75, 75, 1, 1, 1])"
   ]
  },
  {
   "cell_type": "code",
   "execution_count": 4,
   "metadata": {},
   "outputs": [],
   "source": [
    "def create_constellation(altitudes, inclinations, nplanes, sats_per_plane):\n",
    "    \n",
    "    my_sat_tles = []\n",
    "    sat_nr = 80000\n",
    "    for alt, inc, n, s in zip(\n",
    "            altitudes, inclinations, nplanes, sats_per_plane\n",
    "            ):\n",
    "        \n",
    "        if s == 1:\n",
    "            # random placement for lower orbits\n",
    "            mas = np.random.uniform(0, 360, n) * u.deg\n",
    "            raans = np.random.uniform(0, 360, n) * u.deg\n",
    "        else:\n",
    "            mas = np.linspace(0.0, 360.0, s, endpoint=False) * u.deg\n",
    "            mas += np.random.uniform(0, 360, 1) * u.deg\n",
    "            raans = np.linspace(0.0, 360.0, n, endpoint=False) * u.deg\n",
    "            mas, raans = np.meshgrid(mas, raans)\n",
    "            mas, raans = mas.flatten(), raans.flatten()\n",
    "        \n",
    "        mm = satellite_mean_motion(alt)\n",
    "        for ma, raan in zip(mas, raans):\n",
    "            my_sat_tles.append(\n",
    "                # XXX---note magic epoch number here\n",
    "                tle_from_orbital_parameters(\n",
    "                    'TEST {:d}'.format(sat_nr), sat_nr, 19050.1,\n",
    "                    inc, raan, ma, mm\n",
    "                    ))\n",
    "            sat_nr += 1\n",
    "    \n",
    "    return my_sat_tles"
   ]
  },
  {
   "cell_type": "code",
   "execution_count": 7,
   "metadata": {},
   "outputs": [],
   "source": [
    "my_sat_tles = create_constellation(altitudes, inclinations, nplanes, sats_per_plane)"
   ]
  },
  {
   "cell_type": "code",
   "execution_count": 13,
   "metadata": {},
   "outputs": [],
   "source": [
    "ephem_sats = [ephem.readtle(tle.split('\\n')[0], tle.split('\\n')[1], tle.split('\\n')[2]) for tle in my_sat_tles]"
   ]
  },
  {
   "cell_type": "code",
   "execution_count": 17,
   "metadata": {},
   "outputs": [],
   "source": [
    "telescope = Site(name='LSST')\n",
    "\n",
    "observer = ephem.Observer()\n",
    "observer.lat = telescope.latitude_rad\n",
    "observer.lon = telescope.longitude_rad\n",
    "observer.elevation = telescope.height"
   ]
  },
  {
   "cell_type": "code",
   "execution_count": 25,
   "metadata": {},
   "outputs": [],
   "source": [
    "start_time = time.Time(datetime.datetime(2019,11,5,21,0,0,0), 'utc')\n",
    "# Start, mid, and end of an exposure\n",
    "td = time.TimeDelta(np.arange(0, 45, 15), format='sec')\n",
    "times = start_time + td  # 10 min in steps of 1 s"
   ]
  },
  {
   "cell_type": "code",
   "execution_count": 26,
   "metadata": {},
   "outputs": [],
   "source": [
    "observer.date = ephem.date(times[0].datetime)"
   ]
  },
  {
   "cell_type": "code",
   "execution_count": 27,
   "metadata": {},
   "outputs": [
    {
     "data": {
      "text/plain": [
       "<ephem.Observer date='2019/11/5 21:00:00' epoch='2000/1/1 12:00:00' lon='-70:44:57.8' lat='-30:14:39.8' elevation=2650.0m horizon=0:00:00.0 temp=15.0C pressure=1010.0mBar>"
      ]
     },
     "execution_count": 27,
     "metadata": {},
     "output_type": "execute_result"
    }
   ],
   "source": [
    "observer"
   ]
  },
  {
   "cell_type": "code",
   "execution_count": 28,
   "metadata": {},
   "outputs": [],
   "source": [
    "ephem_sats[0].compute(observer)"
   ]
  },
  {
   "cell_type": "code",
   "execution_count": 35,
   "metadata": {},
   "outputs": [
    {
     "data": {
      "text/plain": [
       "(3.835411787033081, -0.5517210960388184, False)"
      ]
     },
     "execution_count": 35,
     "metadata": {},
     "output_type": "execute_result"
    }
   ],
   "source": [
    "ephem_sats[0].az,ephem_sats[0].alt, ephem_sats[0].eclipsed"
   ]
  },
  {
   "cell_type": "code",
   "execution_count": 43,
   "metadata": {},
   "outputs": [],
   "source": [
    "alts = []\n",
    "azs = []\n",
    "eclip = []\n",
    "for sat in ephem_sats:\n",
    "    sat.compute(observer)\n",
    "    alts.append(sat.alt)\n",
    "    azs.append(sat.az)\n",
    "    eclip.append(sat.eclipsed)"
   ]
  },
  {
   "cell_type": "code",
   "execution_count": 45,
   "metadata": {},
   "outputs": [
    {
     "data": {
      "text/plain": [
       "<matplotlib.colorbar.Colorbar at 0x7f92716855c0>"
      ]
     },
     "execution_count": 45,
     "metadata": {},
     "output_type": "execute_result"
    },
    {
     "data": {
      "image/png": "[encoded data removed]",
      "text/plain": [
       "<matplotlib.figure.Figure at 0x7f92a0f69128>"
      ]
     },
     "metadata": {},
     "output_type": "display_data"
    }
   ],
   "source": [
    "plt.scatter(np.degrees(azs),np.degrees(alts), c=eclip)\n",
    "plt.colorbar()"
   ]
  },
  {
   "cell_type": "code",
   "execution_count": 46,
   "metadata": {},
   "outputs": [
    {
     "data": {
      "text/plain": [
       "True"
      ]
     },
     "execution_count": 46,
     "metadata": {},
     "output_type": "execute_result"
    }
   ],
   "source": []
  },
  {
   "cell_type": "code",
   "execution_count": null,
   "metadata": {},
   "outputs": [],
   "source": []
  }
 ],
 "metadata": {
  "kernelspec": {
   "display_name": "Python 3",
   "language": "python",
   "name": "python3"
  },
  "language_info": {
   "codemirror_mode": {
    "name": "ipython",
    "version": 3
   },
   "file_extension": ".py",
   "mimetype": "text/x-python",
   "name": "python",
   "nbconvert_exporter": "python",
   "pygments_lexer": "ipython3",
   "version": "3.6.2"
  }
 },
 "nbformat": 4,
 "nbformat_minor": 2
}
